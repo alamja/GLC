{
 "cells": [
  {
   "cell_type": "code",
   "execution_count": 1,
   "metadata": {},
   "outputs": [],
   "source": [
    "import torch\n",
    "import torch.nn as nn\n",
    "from torch.utils.data import Dataset, DataLoader\n",
    "from torchvision.transforms import ToTensor\n",
    "from collections import defaultdict\n",
    "from tqdm import tqdm\n",
    "from torch.utils.data import Subset\n",
    "import numpy as np\n",
    "import torch.nn.functional as F\n",
    "from datasets import GoldCorrectionDataset\n",
    "from glc import CorrectionGenerator, GoldCorrectionLossFunction"
   ]
  },
  {
   "cell_type": "code",
   "execution_count": 6,
   "metadata": {},
   "outputs": [],
   "source": [
    "from torchvision.datasets import MNIST\n",
    "trn_ds = MNIST('data/', train=True, transform=ToTensor())\n",
    "val_ds = MNIST('data/', train=False, transform=ToTensor())"
   ]
  },
  {
   "cell_type": "code",
   "execution_count": 7,
   "metadata": {},
   "outputs": [
    {
     "name": "stderr",
     "output_type": "stream",
     "text": [
      "100%|██████████| 6000/6000 [00:00<00:00, 6324.63it/s]\n"
     ]
    }
   ],
   "source": [
    "c_gen = CorrectionGenerator(dataset=trn_ds, randomization_strength=1.0)"
   ]
  },
  {
   "cell_type": "code",
   "execution_count": 8,
   "metadata": {},
   "outputs": [],
   "source": [
    "trusted_dataset, untrusted_dataset = c_gen.fetch_datasets()"
   ]
  },
  {
   "cell_type": "code",
   "execution_count": 12,
   "metadata": {},
   "outputs": [],
   "source": [
    "from torched.customs.layers import LinearLayer, Flatten\n",
    "from torched.trainer_utils import Train\n",
    "class Net(nn.Module):\n",
    "    def __init__(self, in_dims, hid_dims, out_dims):\n",
    "        super(Net, self).__init__()\n",
    "        self.net = nn.Sequential(Flatten(),\n",
    "                                LinearLayer(in_dims, hid_dims, use_bn=True),\n",
    "                                LinearLayer(hid_dims, hid_dims, use_bn=True),\n",
    "                                nn.Linear(hid_dims, out_dims))\n",
    "    def forward(self, x):\n",
    "        if isinstance(x, list):\n",
    "            inp, c = x[0], x[1]\n",
    "        else:\n",
    "            inp = x\n",
    "        out = self.net(inp)\n",
    "        if isinstance(x, list):\n",
    "            return [out, c]\n",
    "        return out"
   ]
  },
  {
   "cell_type": "code",
   "execution_count": 13,
   "metadata": {},
   "outputs": [],
   "source": [
    "model = Net(784, 300, 10)\n",
    "u_dl = DataLoader(untrusted_dataset, batch_size=32)\n",
    "v_dl = DataLoader(val_ds, batch_size=32)\n",
    "trainer = Train(model, [u_dl, v_dl], cuda=False)"
   ]
  },
  {
   "cell_type": "code",
   "execution_count": 14,
   "metadata": {},
   "outputs": [
    {
     "data": {
      "application/vnd.jupyter.widget-view+json": {
       "model_id": "08d7d258a9db48ff9cd1ad67a4f569c4",
       "version_major": 2,
       "version_minor": 0
      },
      "text/plain": [
       "HBox(children=(IntProgress(value=0, max=7), HTML(value='')))"
      ]
     },
     "metadata": {},
     "output_type": "display_data"
    },
    {
     "name": "stderr",
     "output_type": "stream",
     "text": [
      "Train Loss 2.328309: 100%|██████████| 1688/1688 [00:40<00:00, 35.15it/s]\n",
      "Valid Loss 2.332816: 100%|██████████| 313/313 [00:02<00:00, 109.70it/s]\n",
      "Train Loss 2.299558: 100%|██████████| 1688/1688 [00:42<00:00, 39.31it/s]\n",
      "Valid Loss 2.330564: 100%|██████████| 313/313 [00:02<00:00, 117.04it/s]\n",
      "Train Loss 2.262732: 100%|██████████| 1688/1688 [00:42<00:00, 39.47it/s]\n",
      "Valid Loss 2.329315: 100%|██████████| 313/313 [00:02<00:00, 113.94it/s]\n",
      "Train Loss 2.271581: 100%|██████████| 1688/1688 [00:43<00:00, 38.89it/s]\n",
      "Valid Loss 2.338990: 100%|██████████| 313/313 [00:02<00:00, 119.94it/s]\n",
      "Train Loss 2.245886: 100%|██████████| 1688/1688 [00:43<00:00, 35.17it/s]\n",
      "Valid Loss 2.339327: 100%|██████████| 313/313 [00:02<00:00, 107.19it/s]\n",
      "Train Loss 2.205070: 100%|██████████| 1688/1688 [00:43<00:00, 38.45it/s]\n",
      "Valid Loss 2.340389: 100%|██████████| 313/313 [00:02<00:00, 109.98it/s]\n",
      "Train Loss 2.172739: 100%|██████████| 1688/1688 [00:45<00:00, 37.32it/s]\n",
      "Valid Loss 2.348561: 100%|██████████| 313/313 [00:02<00:00, 112.15it/s]"
     ]
    },
    {
     "name": "stdout",
     "output_type": "stream",
     "text": [
      "\n"
     ]
    },
    {
     "name": "stderr",
     "output_type": "stream",
     "text": [
      "\n"
     ]
    }
   ],
   "source": [
    "trainer.train(1e-4, 3, 2, crit=nn.CrossEntropyLoss(), opt='adamW')"
   ]
  },
  {
   "cell_type": "code",
   "execution_count": 15,
   "metadata": {},
   "outputs": [
    {
     "name": "stderr",
     "output_type": "stream",
     "text": [
      "Processing label 0: 100%|██████████| 19/19 [00:00<00:00, 114.33it/s]\n",
      "Processing label 1: 100%|██████████| 20/20 [00:00<00:00, 122.72it/s]\n",
      "Processing label 2: 100%|██████████| 20/20 [00:00<00:00, 189.87it/s]\n",
      "Processing label 3: 100%|██████████| 18/18 [00:00<00:00, 177.34it/s]\n",
      "Processing label 4: 100%|██████████| 19/19 [00:00<00:00, 175.65it/s]\n",
      "Processing label 5: 100%|██████████| 18/18 [00:00<00:00, 182.80it/s]\n",
      "Processing label 6: 100%|██████████| 19/19 [00:00<00:00, 161.49it/s]\n",
      "Processing label 7: 100%|██████████| 20/20 [00:00<00:00, 155.87it/s]\n",
      "Processing label 8: 100%|██████████| 18/18 [00:00<00:00, 168.99it/s]\n",
      "Processing label 9: 100%|██████████| 22/22 [00:00<00:00, 125.26it/s]"
     ]
    },
    {
     "name": "stdout",
     "output_type": "stream",
     "text": [
      "Done\n"
     ]
    },
    {
     "name": "stderr",
     "output_type": "stream",
     "text": [
      "\n"
     ]
    }
   ],
   "source": [
    "label_correction_matrix = c_gen.generate_correction_matrix(trainer.model, 32)"
   ]
  },
  {
   "cell_type": "code",
   "execution_count": 16,
   "metadata": {},
   "outputs": [],
   "source": [
    "gold_ds = GoldCorrectionDataset(trusted_dataset, untrusted_dataset)\n",
    "gold_dl = DataLoader(gold_ds, batch_size=32, shuffle=True)\n",
    "g_val_ds = GoldCorrectionDataset(val_ds, val_ds, valid=True)\n",
    "g_val_dl = DataLoader(g_val_ds, batch_size=32)\n",
    "gold_loss = GoldCorrectionLossFunction(label_correction_matrix)"
   ]
  },
  {
   "cell_type": "code",
   "execution_count": 17,
   "metadata": {},
   "outputs": [
    {
     "data": {
      "application/vnd.jupyter.widget-view+json": {
       "model_id": "4e958337334642b384135eb30568636b",
       "version_major": 2,
       "version_minor": 0
      },
      "text/plain": [
       "HBox(children=(IntProgress(value=0, max=7), HTML(value='')))"
      ]
     },
     "metadata": {},
     "output_type": "display_data"
    },
    {
     "name": "stderr",
     "output_type": "stream",
     "text": [
      "Train Loss 2.148798: 100%|██████████| 1875/1875 [00:48<00:00, 38.78it/s]\n",
      "Valid Loss 0.439217: 100%|██████████| 625/625 [00:06<00:00, 95.55it/s] \n",
      "Train Loss 2.106702: 100%|██████████| 1875/1875 [00:51<00:00, 36.76it/s]\n",
      "Valid Loss 0.236635: 100%|██████████| 625/625 [00:06<00:00, 98.85it/s] \n",
      "Train Loss 2.091937: 100%|██████████| 1875/1875 [00:52<00:00, 35.83it/s]\n",
      "Valid Loss 0.220722: 100%|██████████| 625/625 [00:06<00:00, 99.50it/s] \n",
      "Train Loss 2.090299: 100%|██████████| 1875/1875 [00:51<00:00, 34.03it/s]\n",
      "Valid Loss 0.183325: 100%|██████████| 625/625 [00:06<00:00, 103.53it/s]\n",
      "Train Loss 2.082261: 100%|██████████| 1875/1875 [00:52<00:00, 35.38it/s]\n",
      "Valid Loss 0.163479: 100%|██████████| 625/625 [00:06<00:00, 92.16it/s] \n",
      "Train Loss 2.077849: 100%|██████████| 1875/1875 [00:53<00:00, 34.91it/s]\n",
      "Valid Loss 0.157068: 100%|██████████| 625/625 [00:05<00:00, 104.54it/s]\n",
      "Train Loss 2.076205: 100%|██████████| 1875/1875 [00:54<00:00, 34.29it/s]\n",
      "Valid Loss 0.155766: 100%|██████████| 625/625 [00:06<00:00, 90.00it/s] \n"
     ]
    },
    {
     "name": "stdout",
     "output_type": "stream",
     "text": [
      "\n"
     ]
    }
   ],
   "source": [
    "trainer.dataloader = gold_dl\n",
    "trainer.val_dataloader = g_val_dl\n",
    "trainer.train(1e-4, 3, 2, crit=gold_loss, opt='adamW')"
   ]
  },
  {
   "cell_type": "code",
   "execution_count": 18,
   "metadata": {},
   "outputs": [],
   "source": [
    "def epoch(loader, model, opt=None):\n",
    "    \"\"\"Standard training/evaluation epoch over the dataset\"\"\"\n",
    "    total_loss, total_err = 0.,0.\n",
    "    for X,y in loader:\n",
    "        X,y = X, y\n",
    "        yp = model(X)\n",
    "        loss = nn.CrossEntropyLoss()(yp,y)\n",
    "        if opt:\n",
    "            opt.zero_grad()\n",
    "            loss.backward()\n",
    "            opt.step()\n",
    "        \n",
    "        total_err += (yp.max(dim=1)[1] != y).sum().item()\n",
    "        total_loss += loss.item() * X.shape[0]\n",
    "    return total_err / len(loader.dataset), total_loss / len(loader.dataset)"
   ]
  },
  {
   "cell_type": "code",
   "execution_count": 19,
   "metadata": {},
   "outputs": [],
   "source": [
    "err, loss = epoch(v_dl, trainer.model)"
   ]
  },
  {
   "cell_type": "code",
   "execution_count": 20,
   "metadata": {},
   "outputs": [
    {
     "data": {
      "text/plain": [
       "0.9545"
      ]
     },
     "execution_count": 20,
     "metadata": {},
     "output_type": "execute_result"
    }
   ],
   "source": [
    "1 - err"
   ]
  },
  {
   "cell_type": "code",
   "execution_count": null,
   "metadata": {},
   "outputs": [],
   "source": []
  }
 ],
 "metadata": {
  "kernelspec": {
   "display_name": "Python 3",
   "language": "python",
   "name": "python3"
  },
  "language_info": {
   "codemirror_mode": {
    "name": "ipython",
    "version": 3
   },
   "file_extension": ".py",
   "mimetype": "text/x-python",
   "name": "python",
   "nbconvert_exporter": "python",
   "pygments_lexer": "ipython3",
   "version": "3.6.7"
  }
 },
 "nbformat": 4,
 "nbformat_minor": 2
}
